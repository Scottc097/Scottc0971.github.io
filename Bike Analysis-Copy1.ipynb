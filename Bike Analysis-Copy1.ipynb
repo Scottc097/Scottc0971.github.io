{
 "cells": [
  {
   "cell_type": "markdown",
   "id": "697f3f0a-ae45-4d47-906d-bb7dff9d5fc4",
   "metadata": {},
   "source": [
    "# Scott's Bike Analyst Project"
   ]
  },
  {
   "cell_type": "markdown",
   "id": "aab8f42e-1e33-48da-8c08-5bbac97fda12",
   "metadata": {
    "tags": []
   },
   "source": [
    "## Introduction"
   ]
  },
  {
   "cell_type": "markdown",
   "id": "cd6e4be8-d118-4776-be04-56e92de9f6b1",
   "metadata": {},
   "source": [
    "As a junior data analyst in the marketing analytics team at Cyclistic, your task is to collect, analyze, and report data that helps guide the company's marketing strategy. The director of marketing has set a clear goal of designing marketing strategies aimed at converting casual riders into annual members, and this case study aims to answer key business questions by analyzing Cyclistic's historical trip data. Specifically, the focus is on understanding how annual members and casual riders use Cyclistic bikes differently in order to maximize annual memberships."
   ]
  },
  {
   "cell_type": "markdown",
   "id": "2ddb5878-07fb-4de5-b0b9-1c0e1380e2f7",
   "metadata": {},
   "source": [
    "## Data"
   ]
  },
  {
   "cell_type": "markdown",
   "id": "5f9a32d9-3492-41bb-bcc3-62514c93f404",
   "metadata": {},
   "source": [
    "The data used in this case study are the historical trip data from Cyclistic, a fictional bike-share company in Chicago, for the previous 12 months (April 2020 to March 2021). This data is publicly available and has been provided by Motivate International Inc. under a license. The data has been used to explore how different types of customers are using Cyclistic bikes, with a focus on how annual members and casual riders use the bikes differently. It is important to note that due to data-privacy issues, personally identifiable information about the riders cannot be used. The data sources used in this case study are not specified beyond the historical trip data. The analysis produced in this case study includes a summary of key findings and supporting visualizations, as well as recommendations for Cyclistic based on the analysis.\n",
    "\n",
    "Data cleaning and manipulation steps processed the data by replacing missing and blank values, removing duplicates, and renaming columns. It also converted columns to their appropriate data types, calculated ride length, filtered out rides over 4 hours, and added new variables such as ride length in seconds and minutes, hour of day, day of week, and year. Additionally, dictionaries were created to map day of week and hour of day numbers to their respective names and labels. Finally, a dictionary of colors for each user type was defined.\n",
    "\n",
    "Link: https://divvy-tripdata.s3.amazonaws.com/index.html"
   ]
  },
  {
   "cell_type": "markdown",
   "id": "3e14c2fd-f13d-4790-b2f3-cca2293da77c",
   "metadata": {},
   "source": [
    "## Background"
   ]
  },
  {
   "cell_type": "markdown",
   "id": "7e0acc4e-bb81-474e-8d2d-0e0cf63ce752",
   "metadata": {},
   "source": [
    "The Cyclistic bike-share analysis project aims to understand how casual riders and annual members use Cyclistic bikes differently in order to help design a new marketing strategy to convert casual riders into annual members. The project is important for the future success of Cyclistic, as the company's marketing strategy currently relies on building general awareness and appealing to broad consumer segments, and annual members have been identified as much more profitable than casual riders. By understanding the differences between these two groups, the marketing team can design more targeted campaigns aimed at converting casual riders to annual members.\n",
    "\n",
    "The project involves analyzing Cyclistic's historical bike trip data to identify trends and producing a report with clear business goals, data sources, analysis, visualizations, key findings, and recommendations. The project is led by the director of marketing at Cyclistic and supported by the Cyclistic marketing analytics team, which includes the junior data analyst working on this project. The executive team at Cyclistic will ultimately decide whether to approve the recommended marketing program."
   ]
  },
  {
   "cell_type": "markdown",
   "id": "65d19f43-8635-4dba-ab0b-1ed2856624de",
   "metadata": {},
   "source": [
    "## Business Problem"
   ]
  },
  {
   "cell_type": "markdown",
   "id": "d5a13b92-7021-49e6-9945-ba40fbdd9234",
   "metadata": {},
   "source": [
    "Cyclistic is a bike-share company in Chicago that wants to increase its annual membership numbers as they are more profitable than casual riders. As a junior data analyst on the marketing analytics team, your manager, wants you to analyze Cyclistic’s historical bike trip data to identify how annual members and casual riders use Cyclistic bikes differently. The goal is to identify key differences between the two groups to inform a new marketing campaign aimed at converting casual riders into annual members. The results of the analysis should be backed up with compelling data insights and professional data visualizations to gain approval from the Cyclistic executives for the recommended marketing program."
   ]
  },
  {
   "cell_type": "markdown",
   "id": "3011465e-9f4a-4f9c-af4d-eb8fd1aea0bb",
   "metadata": {},
   "source": [
    "## Analysts Performed in Python"
   ]
  },
  {
   "cell_type": "markdown",
   "id": "f17cf5fb-4361-4a5b-8a88-9ebd521cd6b5",
   "metadata": {},
   "source": [
    "Data cleaning and manipulation: The historical trip data needs to be cleaned and manipulated to prepare it for analysis. This may involve removing duplicates, handling missing values, and aggregating data at different levels of granularity.\n",
    "\n",
    "Data analysis: Analyzing the historical trip data to identify trends and differences between how annual members and casual riders use Cyclistic bikes.\n",
    "\n",
    "Data visualization: Creating professional data visualizations to communicate the analysis results to a non-technical audience.\n",
    "\n",
    "Business acumen: Understanding Cyclistic's business goals and how the analysis results will inform a new marketing campaign aimed at converting casual riders into annual members."
   ]
  },
  {
   "cell_type": "markdown",
   "id": "59a7af94-8a9c-482d-9666-1e4914060bfb",
   "metadata": {},
   "source": [
    "# Code"
   ]
  },
  {
   "cell_type": "markdown",
   "id": "7ef1443d-4375-4c71-b4de-c7d2faa555db",
   "metadata": {},
   "source": [
    "## Setting up the workspace and files"
   ]
  },
  {
   "cell_type": "code",
   "execution_count": 826,
   "id": "d350d69b-4e4d-4bb1-91f5-87b016dc9ca1",
   "metadata": {
    "tags": []
   },
   "outputs": [
    {
     "name": "stdout",
     "output_type": "stream",
     "text": [
      "Requirement already satisfied: geopy in c:\\program files\\python38\\lib\\site-packages (2.3.0)\n",
      "Requirement already satisfied: geographiclib<3,>=1.52 in c:\\program files\\python38\\lib\\site-packages (from geopy) (2.0)\n",
      "Note: you may need to restart the kernel to use updated packages.\n"
     ]
    }
   ],
   "source": [
    "pip install geopy"
   ]
  },
  {
   "cell_type": "code",
   "execution_count": 827,
   "id": "89364f2f-1901-43a2-bc61-142ff56540a1",
   "metadata": {
    "tags": []
   },
   "outputs": [],
   "source": [
    "import calendar\n",
    "import plotly.express as px\n",
    "import numpy as np\n",
    "import time\n",
    "import pandas as pd\n",
    "import matplotlib.pyplot as plt\n",
    "import seaborn as sns\n",
    "import datetime\n",
    "import math\n",
    "from geopy.distance import geodesic"
   ]
  },
  {
   "cell_type": "code",
   "execution_count": 828,
   "id": "26cf6514-bd41-4c70-8bed-5300dd8f6852",
   "metadata": {},
   "outputs": [],
   "source": [
    "# concat\n",
    "# Define a list of file names\n",
    "files = [\"Portfolio Projects/202004-divvy-tripdata.csv\",\n",
    "         \"Portfolio Projects/202005-divvy-tripdata.csv\",\n",
    "         \"Portfolio Projects/202006-divvy-tripdata.csv\",\n",
    "         \"Portfolio Projects/202007-divvy-tripdata.csv\",\n",
    "         \"Portfolio Projects/202008-divvy-tripdata.csv\",\n",
    "         \"Portfolio Projects/202009-divvy-tripdata.csv\",\n",
    "         \"Portfolio Projects/202010-divvy-tripdata.csv\",\n",
    "         \"Portfolio Projects/202011-divvy-tripdata.csv\",\n",
    "         \"Portfolio Projects/202012-divvy-tripdata.csv\",\n",
    "         \"Portfolio Projects/202101-divvy-tripdata.csv\",\n",
    "         \"Portfolio Projects/202102-divvy-tripdata.csv\",\n",
    "         \"Portfolio Projects/202103-divvy-tripdata.csv\"]\n",
    "\n",
    "# Load the first file into a DataFrame\n",
    "df_concat = pd.read_csv(files[0])\n",
    "\n",
    "# Loop through the rest of the files and concatenate them to the first DataFrame\n",
    "for i in range(1, len(files)):\n",
    "    df = pd.read_csv(files[i])\n",
    "    df_concat = pd.concat([df_concat, df], axis=0)\n",
    "\n",
    "# Save the concatenated DataFrame to a new CSV file\n",
    "df_concat.to_csv(\"Portfolio Projects/concatenated_file.csv\", index=False)\n"
   ]
  },
  {
   "cell_type": "code",
   "execution_count": 829,
   "id": "e1db7a33-89f4-4071-82e8-fbe2b423f46e",
   "metadata": {
    "tags": []
   },
   "outputs": [],
   "source": [
    "# Read the CSV file into a pandas DataFrame\n",
    "df = pd.read_csv(\"Portfolio Projects/concatenated_file.csv\", low_memory=False)"
   ]
  },
  {
   "cell_type": "markdown",
   "id": "f037fe89-e5fc-4e7f-b4ac-e87741000e57",
   "metadata": {},
   "source": [
    "## Data Cleaning Process"
   ]
  },
  {
   "cell_type": "code",
   "execution_count": 830,
   "id": "19514fa4-7411-4bb7-9e7a-cc233be05291",
   "metadata": {
    "tags": []
   },
   "outputs": [
    {
     "name": "stdout",
     "output_type": "stream",
     "text": [
      "            ride_id rideable_type           started_at             ended_at  \\\n",
      "0  A847FADBBC638E45   docked_bike  2020-04-26 17:45:14  2020-04-26 18:12:03   \n",
      "1  5405B80E996FF60D   docked_bike  2020-04-17 17:08:54  2020-04-17 17:17:03   \n",
      "2  5DD24A79A4E006F4   docked_bike  2020-04-01 17:54:13  2020-04-01 18:08:36   \n",
      "3  2A59BBDF5CDBA725   docked_bike  2020-04-07 12:50:19  2020-04-07 13:02:31   \n",
      "4  27AD306C119C6158   docked_bike  2020-04-18 10:22:59  2020-04-18 11:15:54   \n",
      "\n",
      "             start_station_name start_station_id             end_station_name  \\\n",
      "0                  Eckhart Park             86.0  Lincoln Ave & Diversey Pkwy   \n",
      "1     Drake Ave & Fullerton Ave            503.0              Kosciuszko Park   \n",
      "2          McClurg Ct & Erie St            142.0   Indiana Ave & Roosevelt Rd   \n",
      "3  California Ave & Division St            216.0       Wood St & Augusta Blvd   \n",
      "4          Rush St & Hubbard St            125.0   Sheridan Rd & Lawrence Ave   \n",
      "\n",
      "  end_station_id  start_lat  start_lng  end_lat  end_lng member_casual  \n",
      "0          152.0    41.8964   -87.6610  41.9322 -87.6586        member  \n",
      "1          499.0    41.9244   -87.7154  41.9306 -87.7238        member  \n",
      "2          255.0    41.8945   -87.6179  41.8679 -87.6230        member  \n",
      "3          657.0    41.9030   -87.6975  41.8992 -87.6722        member  \n",
      "4          323.0    41.8902   -87.6262  41.9695 -87.6547        casual  \n",
      "          start_lat     start_lng       end_lat       end_lng\n",
      "count  3.489748e+06  3.489748e+06  3.485010e+06  3.485010e+06\n",
      "mean   4.190417e+01 -8.764494e+01  4.190444e+01 -8.764522e+01\n",
      "std    4.364222e-02  2.575969e-02  4.373705e-02  2.589123e-02\n",
      "min    4.164000e+01 -8.787000e+01  4.154000e+01 -8.807000e+01\n",
      "25%    4.188224e+01 -8.765888e+01  4.188266e+01 -8.765917e+01\n",
      "50%    4.190000e+01 -8.764170e+01  4.190068e+01 -8.764275e+01\n",
      "75%    4.193000e+01 -8.762773e+01  4.193120e+01 -8.762775e+01\n",
      "max    4.208000e+01 -8.752000e+01  4.216000e+01 -8.744000e+01\n",
      "<class 'pandas.core.frame.DataFrame'>\n",
      "RangeIndex: 3489748 entries, 0 to 3489747\n",
      "Data columns (total 13 columns):\n",
      " #   Column              Dtype  \n",
      "---  ------              -----  \n",
      " 0   ride_id             object \n",
      " 1   rideable_type       object \n",
      " 2   started_at          object \n",
      " 3   ended_at            object \n",
      " 4   start_station_name  object \n",
      " 5   start_station_id    object \n",
      " 6   end_station_name    object \n",
      " 7   end_station_id      object \n",
      " 8   start_lat           float64\n",
      " 9   start_lng           float64\n",
      " 10  end_lat             float64\n",
      " 11  end_lng             float64\n",
      " 12  member_casual       object \n",
      "dtypes: float64(4), object(9)\n",
      "memory usage: 346.1+ MB\n",
      "None\n"
     ]
    }
   ],
   "source": [
    "print(df.head())  # to check the first few rows of the dataset\n",
    "print(df.describe())  # to get some statistics about the data\n",
    "print(df.info())  # to get information about the data types and missing values"
   ]
  },
  {
   "cell_type": "code",
   "execution_count": 831,
   "id": "12f5ec52-9046-4791-ac64-57f9f20d3ef3",
   "metadata": {
    "tags": []
   },
   "outputs": [],
   "source": [
    "# replace missing values with \"N/A\"\n",
    "df.fillna(\"N/A\", inplace=True)\n",
    "\n",
    "# replace blank entries with NaN values\n",
    "df = df.replace('', pd.NA)\n",
    "\n",
    "# check for duplicates and remove them\n",
    "df.drop_duplicates(inplace=True)\n",
    "\n",
    "# rename columns\n",
    "df.rename(columns={'rideable_type': 'vehicle_type', 'member_casual': 'user_type'}, inplace=True)\n",
    "\n",
    "\n",
    "##type\n",
    "#turning columns into correct type\n",
    "# convert the \"started_at\" and \"ended_at\" columns to datetime\n",
    "df['started_at'] = pd.to_datetime(df['started_at'])\n",
    "df['ended_at'] = pd.to_datetime(df['ended_at'])\n",
    "df['start_lat'] = df['start_lat'].astype(float)\n",
    "df['start_lng'] = df['start_lng'].astype(float)\n",
    "df['end_lat'] = df['end_lat'].replace('N/A', np.nan).astype(float)\n",
    "df['end_lng'] = df['end_lng'].replace('N/A', np.nan).astype(float)"
   ]
  },
  {
   "cell_type": "markdown",
   "id": "f4eff54e-b214-4fce-a637-dd353ebf6006",
   "metadata": {},
   "source": [
    "## Data Validation Checks and removing outliers"
   ]
  },
  {
   "cell_type": "code",
   "execution_count": 832,
   "id": "b8aea0af-4f7b-46c1-bb07-8ffefab209d9",
   "metadata": {
    "tags": []
   },
   "outputs": [],
   "source": [
    "# calculate the ride length as the difference between \"ended_at\" and \"started_at\" columns\n",
    "df['ride_length'] = df['ended_at'] - df['started_at']"
   ]
  },
  {
   "cell_type": "code",
   "execution_count": 833,
   "id": "2befa577-0261-41fa-ab6a-4f499ad3895f",
   "metadata": {
    "tags": []
   },
   "outputs": [
    {
     "name": "stdout",
     "output_type": "stream",
     "text": [
      "Mean ride length time: 0 days 00:24:45.998430259\n",
      "Max ride length: 40 days 18:40:02\n"
     ]
    }
   ],
   "source": [
    "# calculate the mean of ride_length\n",
    "mean_ride_length = df['ride_length'].mean()\n",
    "\n",
    "print(f\"Mean ride length time: {mean_ride_length}\")\n",
    "\n",
    "# calculate the max of ride_length\n",
    "max_ride_length = df['ride_length'].max()\n",
    "print(f\"Max ride length: {max_ride_length}\")"
   ]
  },
  {
   "cell_type": "code",
   "execution_count": 834,
   "id": "690160ef-5483-4664-a6d8-0738190dfaf4",
   "metadata": {
    "tags": []
   },
   "outputs": [
    {
     "name": "stdout",
     "output_type": "stream",
     "text": [
      "Number of rides with a ride length over 500 hours: 73\n",
      "Number of rides with a ride length over 4 hours: 14805\n",
      "Number of rides with a ride length under 4 hours: 3474941\n"
     ]
    }
   ],
   "source": [
    "# count the number of rides with a ride length over 4 hour\n",
    "num_rides_over_4h = (df['ride_length'] > pd.Timedelta(hours=4)).sum()\n",
    "# Count the number of rides with a ride length over 500 hours\n",
    "num_rides_over_500h = (df['ride_length'] > pd.Timedelta(hours=500)).sum()\n",
    "# Count the number of rides with a ride length under 4 hours\n",
    "num_rides_under_4h = (df['ride_length'] < pd.Timedelta(hours=4)).sum()\n",
    "print(f\"Number of rides with a ride length over 500 hours: {num_rides_over_500h}\")\n",
    "print(f\"Number of rides with a ride length over 4 hours: {num_rides_over_4h}\")\n",
    "print(f\"Number of rides with a ride length under 4 hours: {num_rides_under_4h}\")"
   ]
  },
  {
   "cell_type": "code",
   "execution_count": 835,
   "id": "a8781a1e-7087-4689-b61f-7f5c40a798a2",
   "metadata": {
    "tags": []
   },
   "outputs": [],
   "source": [
    "# filter out rides with length greater than 12 hour\n",
    "df = df[(pd.Timedelta(hours=4) >= df['ride_length']) & (df['ride_length'] >= pd.Timedelta(seconds=0))]"
   ]
  },
  {
   "cell_type": "markdown",
   "id": "a1debf0d-c530-4495-ab7f-cc262c96a291",
   "metadata": {},
   "source": [
    "## Variable Calculations and Dictionaries"
   ]
  },
  {
   "cell_type": "code",
   "execution_count": 836,
   "id": "515be48b-8093-4f92-adfb-9d1c4260eaa0",
   "metadata": {
    "tags": []
   },
   "outputs": [],
   "source": [
    "##Variables\n",
    "# Convert ride length to seconds\n",
    "df['ride_length_seconds'] = df['ride_length'].dt.total_seconds()\n",
    "# Convert ride_length to minutes\n",
    "df['ride_length_minutes'] = df['ride_length'].dt.total_seconds() / 60\n",
    "# extract hour of day from started_at column\n",
    "df['hour_of_day'] = pd.to_datetime(df['started_at']).dt.hour\n",
    "# Extract the month from a date column\n",
    "df['month'] = pd.to_datetime(df['started_at']).dt.month\n",
    "# calculate the day of the week that each ride started using the \"weekday\" command\n",
    "df['day_of_week'] = df['started_at'].dt.weekday\n",
    "# format the \"day_of_week\" column as a number with no decimals\n",
    "df['day_of_week'] = df['day_of_week'].astype(int)\n",
    "# Extract the year from the 'started_at' column\n",
    "df['year'] = pd.DatetimeIndex(df['started_at']).year\n",
    "\n",
    "\n",
    "##Dictionaries\n",
    "# create a dictionary to map day of week numbers to day names\n",
    "day_names = {0: 'Monday', 1: 'Tuesday', 2: 'Wednesday', 3: 'Thursday', 4: 'Friday', 5: 'Saturday', 6: 'Sunday'}\n",
    "# create a dictionary to map hour of day numbers to hour values\n",
    "hour_values = {0: '12', 1: '1 a.m.', 2: '2', 3: '3', 4: '4', 5: '5', 6: '6', 7: '7', 8: '8', 9: '9', 10: '10', 11: '11', 12: '12', 13: '1 p.m.', 14: '2', 15: '3', 16: '4', 17: '5', 18: '6', 19: '7', 20: '8', 21: '9', 22: '10', 23: '11'}\n",
    "# Define the labels for each hour of day\n",
    "hour_labels = ['12 AM - 2 AM', '2 AM - 4 AM', '4 AM - 6 AM', '6 AM - 8 AM', '8 AM - 10 AM', '10 AM - 12 PM',\n",
    "               '12 PM - 2 PM', '2 PM - 4 PM', '4 PM - 6 PM', '6 PM - 8 PM', '8 PM - 10 PM', '10 PM - 12 AM']\n",
    "# Define a dictionary of colors for each user type\n",
    "colors1 = [\"green\", \"red\"]"
   ]
  },
  {
   "cell_type": "code",
   "execution_count": 837,
   "id": "f9440dec-3590-4059-a6c6-4a7ff57c54c7",
   "metadata": {
    "tags": []
   },
   "outputs": [
    {
     "name": "stdout",
     "output_type": "stream",
     "text": [
      "Number of unique months: 12\n"
     ]
    }
   ],
   "source": [
    "# checking if files all 12 months or if I will have to concat all files together\n",
    "# Count the unique values in the month column\n",
    "unique_months = df['month'].nunique()\n",
    "print(\"Number of unique months:\", unique_months)"
   ]
  },
  {
   "cell_type": "markdown",
   "id": "290d3d16-bdb7-4490-be47-98fa72a22e2a",
   "metadata": {},
   "source": [
    "## Statistical Variables for Data Exploration"
   ]
  },
  {
   "cell_type": "code",
   "execution_count": 838,
   "id": "225f7a22-770b-4434-b771-482655e31c27",
   "metadata": {
    "tags": []
   },
   "outputs": [
    {
     "name": "stdout",
     "output_type": "stream",
     "text": [
      "['docked_bike' 'electric_bike' 'classic_bike']\n",
      "['member' 'casual']\n",
      "docked_bike      2534280\n",
      "electric_bike     610995\n",
      "classic_bike      319116\n",
      "Name: vehicle_type, dtype: int64\n",
      "member    2050197\n",
      "casual    1414194\n",
      "Name: user_type, dtype: int64\n",
      "Mean ride length time: 00:22:15\n",
      "Max ride length: 0 days 04:00:00\n",
      "Mode day of week: 5\n",
      "Average ride length for members: 00:15:10\n",
      "Average ride length for casual riders: 00:32:31\n",
      "Average ride length by day of week:\n",
      "day_of_week\n",
      "0    00:20:41\n",
      "1    00:19:31\n",
      "2    00:19:19\n",
      "3    00:19:42\n",
      "4    00:21:13\n",
      "5    00:26:06\n",
      "6    00:26:46\n",
      "Name: ride_length, dtype: object\n"
     ]
    }
   ],
   "source": [
    "# Unique values for categorical columns\n",
    "print(df['vehicle_type'].unique())\n",
    "print(df['user_type'].unique())\n",
    "\n",
    "# Frequency counts for categorical columns\n",
    "print(df['vehicle_type'].value_counts())\n",
    "print(df['user_type'].value_counts())\n",
    "\n",
    "# calculate the mean of ride_length\n",
    "mean_ride_length = df['ride_length'].mean()\n",
    "\n",
    "# Convert the mean ride length value to timedelta format and extract the total seconds\n",
    "mean_ride_length_timedelta = pd.to_timedelta(mean_ride_length)\n",
    "mean_ride_length_seconds = mean_ride_length_timedelta.total_seconds()\n",
    "\n",
    "# Format the mean ride length value as HH:MM:SS\n",
    "mean_ride_length_str = f\"{int(mean_ride_length_seconds/3600):02d}:{int((mean_ride_length_seconds%3600)/60):02d}:{int(mean_ride_length_seconds%60):02d}\"\n",
    "\n",
    "# Print the result\n",
    "print(f\"Mean ride length time: {mean_ride_length_str}\")\n",
    "\n",
    "\n",
    "# calculate the max of ride_length\n",
    "max_ride_length = df['ride_length'].max()\n",
    "print(f\"Max ride length: {max_ride_length}\")\n",
    "\n",
    "# calculate the mode of day_of_week\n",
    "mode_day_of_week = df['day_of_week'].mode()[0]\n",
    "print(f\"Mode day of week: {mode_day_of_week}\")\n",
    "\n",
    "\n",
    "\n",
    "# Group the data by user_type and calculate the mean of ride_length for each group\n",
    "ride_length_by_user_type = df.groupby('user_type')['ride_length'].mean()\n",
    "\n",
    "# Convert the ride length values to timedelta format and extract the total seconds\n",
    "ride_length_by_user_type = ride_length_by_user_type.apply(lambda x: pd.to_timedelta(x).total_seconds())\n",
    "\n",
    "# Format the ride length values as HH:MM:SS\n",
    "ride_length_by_user_type = ride_length_by_user_type.apply(lambda x: f\"{int(x/3600):02d}:{int((x%3600)/60):02d}:{int(x%60):02d}\")\n",
    "\n",
    "# Print the results\n",
    "print(\"Average ride length for members:\", ride_length_by_user_type['member'])\n",
    "print(\"Average ride length for casual riders:\", ride_length_by_user_type['casual'])\n",
    "\n",
    "\n",
    "\n",
    "# calculate the average ride length for users by day of week\n",
    "avg_ride_length_by_day = df.groupby('day_of_week')['ride_length'].mean().dt.seconds\n",
    "\n",
    "\n",
    "# format the timedelta values as MM:SS\n",
    "avg_ride_length_by_day = avg_ride_length_by_day.apply(lambda x: time.strftime('%H:%M:%S', time.gmtime(x)))\n",
    "\n",
    "# print the result\n",
    "print(\"Average ride length by day of week:\")\n",
    "print(avg_ride_length_by_day)"
   ]
  },
  {
   "cell_type": "code",
   "execution_count": 839,
   "id": "057a60ee-8e4c-454a-a684-6dde59bc8d62",
   "metadata": {
    "tags": []
   },
   "outputs": [
    {
     "data": {
      "image/png": "[encoded data removed]",
      "text/plain": [
       "<Figure size 640x480 with 1 Axes>"
      ]
     },
     "metadata": {},
     "output_type": "display_data"
    }
   ],
   "source": [
    "# Group the data by vehicle type and user type, and count the number of rides in each group\n",
    "ride_counts1 = df.groupby(['vehicle_type', 'user_type'])['ride_id'].count()\n",
    "\n",
    "\n",
    "# Create a bar chart and use the colormap to set the colors of the bars\n",
    "ax = ride_counts1.unstack().plot(kind='bar', colormap='Paired')\n",
    "\n",
    "# Set the title and labels\n",
    "plt.title('Rides by Vehicle Type and User Type')\n",
    "plt.xlabel('Vehicle and User Type')\n",
    "plt.ylabel('Number of Rides')\n",
    "\n",
    "# Set the legend\n",
    "handles, labels = ax.get_legend_handles_labels()\n",
    "labels = [f'{label} ({ride_counts1.loc[:, label].sum()})' for label in labels]\n",
    "ax.legend(handles, labels, title='User Type')\n",
    "\n",
    "# Show the plot\n",
    "plt.show()"
   ]
  },
  {
   "cell_type": "code",
   "execution_count": 840,
   "id": "300ad343-e55b-49f7-a413-17a955826d54",
   "metadata": {
    "tags": []
   },
   "outputs": [
    {
     "data": {
      "image/png": "[encoded data removed]",
      "text/plain": [
       "<Figure size 640x480 with 1 Axes>"
      ]
     },
     "metadata": {},
     "output_type": "display_data"
    }
   ],
   "source": [
    "### Pie chart with distribution of vehicle and user types\n",
    "#Create a pie chart\n",
    "ride_counts1.plot(kind='pie', autopct='%1.1f%%')\n",
    "plt.title('Rides by Vehicle Type and User Type')\n",
    "plt.axis('equal')\n",
    "plt.legend(title='Vehicle and User Type', loc='center left', bbox_to_anchor=(1.1, 1))\n",
    "plt.show()"
   ]
  },
  {
   "cell_type": "code",
   "execution_count": 841,
   "id": "c6d1f12b-5a12-4301-ad02-ab214b75ef0f",
   "metadata": {
    "tags": []
   },
   "outputs": [
    {
     "data": {
      "image/png": "[encoded data removed]",
      "text/plain": [
       "<Figure size 640x480 with 1 Axes>"
      ]
     },
     "metadata": {},
     "output_type": "display_data"
    }
   ],
   "source": [
    "# Create a box plot of ride lengths\n",
    "plt.boxplot(df['ride_length_minutes'])\n",
    "plt.ylabel('Ride Length (minutes)')\n",
    "plt.title('Box Plot of Ride Lengths')\n",
    "plt.show()"
   ]
  },
  {
   "cell_type": "markdown",
   "id": "65f4ab8c-7b66-42f9-9b43-58ba154c71b7",
   "metadata": {
    "tags": []
   },
   "source": [
    "## Creating variable ride distance1 from starting and ending latitude and longitude by using Geodesic library to further investigate trends between users"
   ]
  },
  {
   "cell_type": "code",
   "execution_count": null,
   "id": "0205b94e-3b5a-4ebe-90b2-ee49ce4cb93b",
   "metadata": {
    "tags": []
   },
   "outputs": [],
   "source": [
    "# drop rows where any of the start or end variables have NaN values\n",
    "df = df.dropna(subset=['start_lat', 'start_lng', 'end_lat', 'end_lng'])\n",
    "\n",
    "# calculate ride distance and duration\n",
    "df['ride_distance1'] = df.apply(lambda row: geodesic((row['start_lat'], row['start_lng']), (row['end_lat'], row['end_lng'])).miles, axis=1)\n",
    "df['ride_duration_minutes'] = df['ride_length'] / pd.Timedelta(minutes=1)\n",
    "\n",
    "# Select only the 'name' and 'occupation' columns\n",
    "new_df = df[['ride_distance1', 'ride_duration_minutes']]\n",
    "# print first 10 rows of the dataframe\n",
    "print(new_df.head(10))"
   ]
  },
  {
   "cell_type": "markdown",
   "id": "dd2b39c7-6417-49e3-a2f3-2deca4401da9",
   "metadata": {},
   "source": [
    "### Additional Variables after Geodesic"
   ]
  },
  {
   "cell_type": "code",
   "execution_count": null,
   "id": "5ce630e3-0a07-45b5-afc9-2c4917ca2c3e",
   "metadata": {
    "tags": []
   },
   "outputs": [],
   "source": [
    "#Step 3: Creating Additional Variables after Geodesic\n",
    "df['ride_length_minutes'] = df['ride_length_seconds'] / 60\n",
    "df['ride_distance_km'] = df['ride_distance1'] / 1000\n",
    "df['user_type_category'] = df['user_type'].apply(lambda x: 'Member' if x == 'member' else 'Casual')\n",
    "df['hour_of_day_category'] = pd.cut(df['hour_of_day'], bins=[0, 6, 12, 18, 24], labels=['Night', 'Morning', 'Afternoon', 'Evening'])"
   ]
  },
  {
   "cell_type": "markdown",
   "id": "329d5091-24cb-48ce-9f5f-1ad3e787071d",
   "metadata": {},
   "source": [
    "# Segmentation"
   ]
  },
  {
   "cell_type": "code",
   "execution_count": null,
   "id": "cb1a7174-5b4a-4ac5-b3f3-5819f4627037",
   "metadata": {
    "tags": []
   },
   "outputs": [],
   "source": [
    "# Get the ride frequency for each user type and sort in ascending order Casual user type will always be on left and red\n",
    "ride_frequency = df['user_type_category'].value_counts().sort_values(ascending=True)\n",
    "\n",
    "# Create a bar chart and set the colors for each bar\n",
    "ride_frequency.plot(kind='bar', color=colors1)\n",
    "\n",
    "# Set the chart title and axis labels\n",
    "plt.title('Ride Frequency by User Type')\n",
    "plt.xlabel('User Type')\n",
    "plt.ylabel('Frequency')\n",
    "\n",
    "# Show the chart\n",
    "plt.show()"
   ]
  },
  {
   "cell_type": "code",
   "execution_count": null,
   "id": "edbf3a83-8787-435e-afdf-d9a7905a73c0",
   "metadata": {
    "tags": []
   },
   "outputs": [],
   "source": [
    "# Segment the data by user type\n",
    "by_user = df.groupby(\"user_type\")\n",
    "\n",
    "#ride distance mean by user\n",
    "result = by_user.agg({\"ride_distance1\": \"mean\"})\n",
    "\n",
    "# Segment the data by user type\n",
    "by_user = df.groupby(\"user_type\")\n",
    "\n",
    "# Calculate the mean ride distance by user type\n",
    "ride_distance_means = by_user.agg({\"ride_distance1\": \"mean\"})\n",
    "\n",
    "# Create a bar chart with custom colors\n",
    "fig, ax = plt.subplots()\n",
    "ax.bar(ride_distance_means.index, ride_distance_means[\"ride_distance1\"], color=colors1)\n",
    "\n",
    "# Set the chart title and axis labels\n",
    "ax.set_title(\"Average Ride Distance by User Type\")\n",
    "ax.set_xlabel(\"User Type\")\n",
    "ax.set_ylabel(\"Average Ride Distance (km)\")\n",
    "\n",
    "# Show the results and chart\n",
    "plt.show()"
   ]
  },
  {
   "cell_type": "code",
   "execution_count": null,
   "id": "5c796cd9-25ec-4ee1-85b8-bd6a96439775",
   "metadata": {
    "tags": []
   },
   "outputs": [],
   "source": [
    "# convert ride_length column to timedelta dtype\n",
    "df['ride_length'] = pd.to_timedelta(df['ride_length'])\n",
    "\n",
    "# compute mean ride length by user type\n",
    "ride_length = df.groupby('user_type')['ride_length'].mean()\n",
    "\n",
    "# convert back to float for plotting\n",
    "ride_length = ride_length.astype('timedelta64[m]').astype('float64')\n",
    "\n",
    "# plot the bar chart\n",
    "ride_length.plot(kind='bar', title='Ride Length by User Type', color=colors1)\n",
    "plt.xlabel('User Type')\n",
    "plt.ylabel('Average Ride Length (minutes)')\n",
    "plt.show()"
   ]
  },
  {
   "cell_type": "code",
   "execution_count": null,
   "id": "15bd69cc-bf96-4c8b-a8b4-db39aedc20d0",
   "metadata": {},
   "outputs": [],
   "source": [
    "##Histogram: To show the distribution of ride lengths for members and casual riders and overlaying\n",
    "# Filter the data by user type\n",
    "members_data = df[df['user_type'] == 'member']\n",
    "casual_data = df[df['user_type'] == 'casual']\n",
    "\n",
    "\n",
    "# Create separate histograms for members and casual riders\n",
    "plt.hist(df.loc[df['user_type'] == 'member', 'ride_length_seconds'], bins=20, alpha=0.3, color='red', label='Member')\n",
    "plt.hist(df.loc[df['user_type'] == 'casual', 'ride_length_seconds'], bins=20, alpha=0.3, color='green', label='Casual')\n",
    "\n",
    "# Add labels and legend\n",
    "plt.xlabel('Ride Length (Seconds)')\n",
    "plt.ylabel('Frequency')\n",
    "plt.legend()\n",
    "\n",
    "# Display the histogram\n",
    "plt.show()"
   ]
  },
  {
   "cell_type": "markdown",
   "id": "10b2ddaa-0f77-4e96-ac4c-496dbfad073a",
   "metadata": {},
   "source": [
    "# Bike Availability Hourly Trends"
   ]
  },
  {
   "cell_type": "code",
   "execution_count": null,
   "id": "567934db-b10a-4ccc-97fe-fcbbdae20bb0",
   "metadata": {
    "tags": []
   },
   "outputs": [],
   "source": [
    "df['start_hour'] = pd.to_datetime(df['started_at']).dt.hour\n",
    "ride_time = df.groupby(['user_type', 'start_hour'])['ride_id'].count()\n",
    "\n",
    "ax = ride_time.unstack('user_type').plot(title='Ride Time of Day by User Type', color = colors1)\n",
    "ax.set_xlabel('Hour of the Day')\n",
    "ax.set_ylabel('Number of Rides')\n",
    "ax.legend(title='User Type')\n",
    "plt.show()\n",
    "print('Ride Time of Day by User Type:')"
   ]
  },
  {
   "cell_type": "code",
   "execution_count": null,
   "id": "ed3925fd-b0ae-41f0-bcb1-938c2388eecc",
   "metadata": {
    "tags": []
   },
   "outputs": [],
   "source": [
    "# Group the data by weekday and calculate the mean ride length for each weekday\n",
    "rides_by_weekday = df.groupby('day_of_week')['ride_length'].mean() / 60  # Convert to minutes\n",
    "\n",
    "# Create a line plot\n",
    "rides_by_weekday.plot(kind='line')\n",
    "\n",
    "# Set the x-axis labels\n",
    "plt.xticks(range(0, 7), day_names)\n",
    "\n",
    "# Set the title, x-axis label, and y-axis label\n",
    "plt.title('Average Ride Length by Day of the Week')\n",
    "plt.xlabel('Day of the Week')\n",
    "plt.ylabel('Average Ride Length (minutes)')  # Change the y-axis label\n",
    "\n",
    "# Show the plot\n",
    "plt.show()"
   ]
  },
  {
   "cell_type": "code",
   "execution_count": null,
   "id": "3e3f1efa-8f81-4d9f-aec9-a545e4f95c8f",
   "metadata": {},
   "outputs": [],
   "source": [
    "# create pivot table\n",
    "pivot_table = pd.pivot_table(df, values='ride_length_minutes', index='day_of_week', columns='hour_of_day', aggfunc='mean')\n",
    "\n",
    "# create heatmap\n",
    "plt.figure(figsize=(12,6))\n",
    "sns.heatmap(pivot_table, cmap='YlOrRd', annot=True, fmt='.1f', linewidths=.5)\n",
    "plt.title('Average Ride Length (minutes) by Day of Week and Hour of Day')\n",
    "plt.xlabel('Hour of Day')\n",
    "plt.ylabel('Day of Week')\n",
    "\n",
    "# add a color-coded legend showing the mapping of day of week numbers to day names and hour values\n",
    "plt.xticks(np.arange(0.5, 24.5, 1), [hour_values[i] for i in range(24)])\n",
    "plt.yticks(np.arange(0.5, 7.5, 1), [day_names[i] for i in range(7)])\n",
    "plt.show()"
   ]
  },
  {
   "cell_type": "markdown",
   "id": "4eeda2b8-8681-4191-b3eb-c180add4e6dd",
   "metadata": {},
   "source": [
    "# Monthly Trends"
   ]
  },
  {
   "cell_type": "code",
   "execution_count": null,
   "id": "44ce8c2b-4a82-4915-9648-83f11f082208",
   "metadata": {
    "tags": []
   },
   "outputs": [],
   "source": [
    "# Group the data by month and vehicle type and count the ride_id\n",
    "df_grouped = df.groupby(['month', 'vehicle_type']).count()['ride_id'].reset_index()\n",
    "\n",
    "# Pivot the data to make vehicle types as columns\n",
    "df_pivoted = df_grouped.pivot(index='month', columns='vehicle_type', values='ride_id')\n",
    "\n",
    "# Plot the line graph\n",
    "df_pivoted.plot.line()\n",
    "plt.xlabel('Month')\n",
    "plt.ylabel('Number of Rides')\n",
    "plt.title('Monthly Trends of Ride Counts for Each Vehicle Type')\n",
    "plt.show()"
   ]
  },
  {
   "cell_type": "markdown",
   "id": "5cd57d7f-be7c-4582-a627-7476c277f028",
   "metadata": {},
   "source": [
    "# Recommendation Four: Frequent Routes"
   ]
  },
  {
   "cell_type": "code",
   "execution_count": null,
   "id": "d2c01a51-3ceb-48fc-b5fa-9f86ea4a07cb",
   "metadata": {
    "tags": []
   },
   "outputs": [],
   "source": [
    "# create a new column that concatenates the start and end station names\n",
    "df = df.drop(index=df[df['start_station_name'] == 'N/A'].index)\n",
    "df = df.drop(index=df[df['end_station_name'] == 'N/A'].index)\n",
    "df['route'] = df['start_station_name'] + ' -> ' + df['end_station_name']\n",
    "# group the data by user_type and route, and count the number of rides for each group\n",
    "route_count = df.groupby(['user_type', 'route'])['ride_id'].count()\n",
    "\n",
    "# sort the results in descending order and select the top 10 routes for each user type\n",
    "top_routes = route_count.groupby('user_type').apply(lambda x: x.sort_values(ascending=False).head(10))\n",
    "\n",
    "# print the results\n",
    "print('Top 10 Routes by User Type:')\n",
    "print(top_routes)"
   ]
  },
  {
   "cell_type": "markdown",
   "id": "1dbedf41-4607-4036-8fda-f895279d7bf2",
   "metadata": {},
   "source": [
    "## Insights and Recommendations"
   ]
  },
  {
   "cell_type": "markdown",
   "id": "64a1bf91-b38c-4b21-b439-3c1f16ec4866",
   "metadata": {},
   "source": [
    "Differences in ride frequency and ride distance: Casual riders are less frequent users of Cyclistic bikes compared to annual members, indicating a possible need for marketing efforts that encourage more frequent use among casual riders. Additionally, annual members ride slightly shorter distances than casual riders, which may indicate that annual memberships are best suited for those who use the bikes primarily for short commutes.\n",
    "\n",
    "Differences in average ride length: Casual riders have a much longer average ride length than annual members, indicating that they use the bikes for leisurely or recreational purposes. This finding suggests that Cyclistic could market the bikes as a fun and easy way to explore the city, rather than just a mode of transportation.\n",
    "\n",
    "Differences in ride time of day: Casual riders tend to use Cyclistic bikes more during the day, while annual members use them more in the early morning and evening. This finding suggests that Cyclistic could tailor marketing efforts towards casual riders during the day, while targeting annual members during the early morning and evening, possibly highlighting the benefits of using the bikes for commuting.\n",
    "\n",
    "Differences in vehicle type usage: Casual riders use docked bikes the most, while annual members use a combination of docked and electric bikes. This finding suggests that Cyclistic could consider expanding its electric bike fleet to attract more annual members.\n",
    "\n",
    "Based on these insights, the following recommendations can be made:\n",
    "\n",
    "Target marketing efforts towards casual riders that encourage more frequent use, such as promotions for multiple rides per day or weekend deals.\n",
    "\n",
    "Market the bikes to casual riders as a fun and easy way to explore the city, highlighting scenic routes or popular destinations.\n",
    "\n",
    "Tailor marketing efforts towards casual riders during the day, while targeting annual members during the early morning and evening, possibly highlighting the benefits of using the bikes for commuting.\n",
    "\n",
    "Consider expanding Cyclistic's electric bike fleet to attract more annual members."
   ]
  },
  {
   "cell_type": "markdown",
   "id": "cbedaa83-48bb-4de5-bca2-5830c123430b",
   "metadata": {},
   "source": [
    "## Limitations"
   ]
  },
  {
   "cell_type": "markdown",
   "id": "aec4b3f2-09fb-474b-bfee-0135b2e21f70",
   "metadata": {},
   "source": [
    "I noticed a bias in my analysis when I filtered ride length to be less than or equal to one hour. This excluded data from casual users who tend to take longer leisurely rides compared to annual members. To address this bias, I expanded the filter to three hours based on the histogram, which showed a right skew. This adjustment ensures data integrity without creating bias against any user type.\n",
    "\n",
    "To further improve data collection, I suggest asking the company for their definition of an outlier and their refund policy for users who forget to end their ride on the app. Testing their service can also provide a better understanding of how it works.\n",
    "\n",
    "Regarding the geodesic function code, I attempted to optimize it to decrease run time but did not find any successful alternatives.\n",
    "\n",
    "Data Limitations: The analysis is limited to the historical trip data provided by Cyclistic. This dataset may not contain all the necessary variables to comprehensively answer the business questions. Also, the data does not provide information about the demographics of the riders, which could limit the analysis.\n",
    "\n",
    "Scope Limitations: The project only focuses on one aspect of the business question - how annual members and casual riders use Cyclistic bikes differently. Other important aspects of the question, such as why casual riders would buy Cyclistic annual memberships and how digital media could affect marketing tactics, are not addressed.\n",
    "\n",
    "Time Limitations: The project is limited to analyzing the previous 12 months of Cyclistic trip data. This limited timeframe may not be sufficient to identify long-term trends and patterns in the data.\n",
    "\n",
    "External Factors: The analysis does not consider external factors such as weather, events, or holidays, which could significantly affect the ridership patterns.\n",
    "\n",
    "Sample Limitations: The analysis is limited to the data provided by Cyclistic, which may not represent the entire population of Cyclistic users. The analysis does not account for the sampling bias in the data, which could affect the generalizability of the findings."
   ]
  },
  {
   "cell_type": "markdown",
   "id": "13b4a67e-fc2a-42bc-aa82-8c4e4ba7ef1a",
   "metadata": {},
   "source": [
    "## Implementation"
   ]
  },
  {
   "cell_type": "markdown",
   "id": "390fe32a-4fe5-42c3-ad22-f3d58b376f8a",
   "metadata": {},
   "source": [
    "1. Develop and implement targeted marketing campaigns:\n",
    "- Develop marketing materials for casual riders that encourage more frequent use and highlight the benefits of using Cyclistic bikes for leisurely or recreational purposes.\n",
    "- Develop marketing materials for annual members that highlight the benefits of using the bikes for commuting.\n",
    "- Tailor marketing efforts towards casual riders during the day and annual members during the early morning and evening.\n",
    "- Timeframe: 1-2 months\n",
    "\n",
    "2. Expand the electric bike fleet:\n",
    "- Conduct a feasibility study to assess the cost and potential benefits of expanding the electric bike fleet.\n",
    "- Develop a plan for purchasing and deploying additional electric bikes.\n",
    "- Timeframe: 3-6 months\n",
    "\n",
    "3. Collect and analyze data on the effectiveness of the marketing campaigns and electric bike expansion:\n",
    "- Collect data on ride frequency, ride distance, and vehicle type usage before and after the marketing campaigns and electric bike expansion.\n",
    "- Analyze the data to determine the effectiveness of the campaigns and the expansion in attracting more casual riders and annual members.\n",
    "- Timeframe: 3-6 months\n",
    "\n",
    "4. Make necessary adjustments to marketing campaigns and fleet expansion based on data analysis:\n",
    "- Based on the data analysis, make necessary adjustments to the marketing campaigns and electric bike expansion to ensure they are effectively attracting more casual riders and annual members.\n",
    "- Timeframe: Ongoing\n",
    "- Overall timeframe: 6-12 months"
   ]
  },
  {
   "cell_type": "markdown",
   "id": "342a0cf0-fa6d-4526-9106-e9f431ef8d15",
   "metadata": {},
   "source": [
    "## Summary: "
   ]
  },
  {
   "cell_type": "markdown",
   "id": "66d9a39f-c361-4cb6-8899-22ace8e4b9b8",
   "metadata": {},
   "source": [
    "The Cyclistic bike-share analysis project is a marketing analytics task that involves analyzing the historical trip data of Cyclistic, a bike-share company in Chicago. The goal of the analysis is to understand how annual members and casual riders use Cyclistic bikes differently to design a new marketing strategy aimed at converting casual riders into annual members. The project involves data cleaning and manipulation, data analysis, data visualization, and business acumen. Key findings include differences in ride frequency and ride distance, differences in average ride length, differences in ride time of day, and differences in vehicle type usage. Based on the insights, the project recommends targeting marketing efforts towards casual riders to encourage more frequent use, marketing the bikes as a fun and easy way to explore the city, tailoring marketing efforts towards casual riders during the day, targeting annual members during the early morning and evening, and expanding Cyclistic's electric bike fleet to attract more annual members."
   ]
  },
  {
   "cell_type": "code",
   "execution_count": null,
   "id": "1b71e7ca-2dbf-413b-838b-a1234a7bc7dc",
   "metadata": {},
   "outputs": [],
   "source": [
    "# select only the desired columns\n",
    "#df = df[['ride_id', 'vehicle_type', 'start_lat', 'start_lng', 'end_lat', 'end_lng', 'user_type','start_station_name','end_station_name']]\n",
    "\n",
    "# save the filtered dataset to a new CSV file\n",
    "#df.to_csv('Bike_data_Tableau_V02.csv', index=False)"
   ]
  }
 ],
 "metadata": {
  "kernelspec": {
   "display_name": "Python 3 (ipykernel)",
   "language": "python",
   "name": "python3"
  },
  "language_info": {
   "codemirror_mode": {
    "name": "ipython",
    "version": 3
   },
   "file_extension": ".py",
   "mimetype": "text/x-python",
   "name": "python",
   "nbconvert_exporter": "python",
   "pygments_lexer": "ipython3",
   "version": "3.8.2"
  }
 },
 "nbformat": 4,
 "nbformat_minor": 5
}
